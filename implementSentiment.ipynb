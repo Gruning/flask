{
 "cells": [
  {
   "cell_type": "code",
   "execution_count": 1,
   "metadata": {},
   "outputs": [],
   "source": [
    "import pandas as pd\n",
    "import numpy as np\n",
    "import re\n",
    "import matplotlib as plt\n",
    "import seaborn as sns\n",
    "import string\n",
    "import nltk \n",
    "from sklearn.model_selection import train_test_split, GridSearchCV\n",
    "from sklearn.metrics import f1_score,accuracy_score , roc_curve ,auc\n",
    "#import warning\n",
    "#warning.filterwarning(\"Ignore\", category = FutureWarning)\n",
    "#warning.filterwarning(\"Ignore\", category = DeprecationWarning)"
   ]
  },
  {
   "cell_type": "code",
   "execution_count": 2,
   "metadata": {},
   "outputs": [],
   "source": [
    "import warnings"
   ]
  },
  {
   "cell_type": "code",
   "execution_count": 3,
   "metadata": {},
   "outputs": [],
   "source": [
    "warnings.filterwarnings(\"ignore\", category = FutureWarning)\n",
    "warnings.filterwarnings(\"ignore\", category = DeprecationWarning)"
   ]
  },
  {
   "cell_type": "code",
   "execution_count": 4,
   "metadata": {},
   "outputs": [],
   "source": [
    "# importing the dataset\n",
    "data = pd.read_csv(\"sentiment.tsv\",sep =\"\\t\")"
   ]
  },
  {
   "cell_type": "code",
   "execution_count": 5,
   "metadata": {},
   "outputs": [],
   "source": [
    "data.columns = [\"label\", \"body_text\"]"
   ]
  },
  {
   "cell_type": "code",
   "execution_count": 6,
   "metadata": {},
   "outputs": [
    {
     "data": {
      "text/html": "<div>\n<style scoped>\n    .dataframe tbody tr th:only-of-type {\n        vertical-align: middle;\n    }\n\n    .dataframe tbody tr th {\n        vertical-align: top;\n    }\n\n    .dataframe thead th {\n        text-align: right;\n    }\n</style>\n<table border=\"1\" class=\"dataframe\">\n  <thead>\n    <tr style=\"text-align: right;\">\n      <th></th>\n      <th>label</th>\n      <th>body_text</th>\n    </tr>\n  </thead>\n  <tbody>\n    <tr>\n      <th>0</th>\n      <td>pos</td>\n      <td>having a vodka tonic and looking forward to go...</td>\n    </tr>\n    <tr>\n      <th>1</th>\n      <td>pos</td>\n      <td>@ddlovatofans1neg1 Could you follow me please....</td>\n    </tr>\n    <tr>\n      <th>2</th>\n      <td>pos</td>\n      <td>@jordanknight for once.................. PLEAS...</td>\n    </tr>\n    <tr>\n      <th>3</th>\n      <td>neg</td>\n      <td>Had a dream about a walk in fast food resturau...</td>\n    </tr>\n    <tr>\n      <th>4</th>\n      <td>pos</td>\n      <td>@TroyBrownBBNews Yes... For a &amp;quot;friend&amp;quot;</td>\n    </tr>\n  </tbody>\n</table>\n</div>",
      "text/plain": "  label                                          body_text\n0   pos  having a vodka tonic and looking forward to go...\n1   pos  @ddlovatofans1neg1 Could you follow me please....\n2   pos  @jordanknight for once.................. PLEAS...\n3   neg  Had a dream about a walk in fast food resturau...\n4   pos  @TroyBrownBBNews Yes... For a &quot;friend&quot; "
     },
     "execution_count": 6,
     "metadata": {},
     "output_type": "execute_result"
    }
   ],
   "source": [
    "data.head()"
   ]
  },
  {
   "cell_type": "code",
   "execution_count": 7,
   "metadata": {},
   "outputs": [],
   "source": [
    "from sklearn.preprocessing import LabelEncoder\n"
   ]
  },
  {
   "cell_type": "code",
   "execution_count": 8,
   "metadata": {},
   "outputs": [],
   "source": [
    "le = LabelEncoder()"
   ]
  },
  {
   "cell_type": "code",
   "execution_count": 9,
   "metadata": {},
   "outputs": [],
   "source": [
    "data[\"label\"] = le.fit_transform(data[\"label\"])"
   ]
  },
  {
   "cell_type": "code",
   "execution_count": 10,
   "metadata": {},
   "outputs": [
    {
     "data": {
      "text/html": "<div>\n<style scoped>\n    .dataframe tbody tr th:only-of-type {\n        vertical-align: middle;\n    }\n\n    .dataframe tbody tr th {\n        vertical-align: top;\n    }\n\n    .dataframe thead th {\n        text-align: right;\n    }\n</style>\n<table border=\"1\" class=\"dataframe\">\n  <thead>\n    <tr style=\"text-align: right;\">\n      <th></th>\n      <th>label</th>\n      <th>body_text</th>\n    </tr>\n  </thead>\n  <tbody>\n    <tr>\n      <th>0</th>\n      <td>1</td>\n      <td>having a vodka tonic and looking forward to go...</td>\n    </tr>\n    <tr>\n      <th>1</th>\n      <td>1</td>\n      <td>@ddlovatofans1neg1 Could you follow me please....</td>\n    </tr>\n    <tr>\n      <th>2</th>\n      <td>1</td>\n      <td>@jordanknight for once.................. PLEAS...</td>\n    </tr>\n    <tr>\n      <th>3</th>\n      <td>0</td>\n      <td>Had a dream about a walk in fast food resturau...</td>\n    </tr>\n    <tr>\n      <th>4</th>\n      <td>1</td>\n      <td>@TroyBrownBBNews Yes... For a &amp;quot;friend&amp;quot;</td>\n    </tr>\n  </tbody>\n</table>\n</div>",
      "text/plain": "   label                                          body_text\n0      1  having a vodka tonic and looking forward to go...\n1      1  @ddlovatofans1neg1 Could you follow me please....\n2      1  @jordanknight for once.................. PLEAS...\n3      0  Had a dream about a walk in fast food resturau...\n4      1  @TroyBrownBBNews Yes... For a &quot;friend&quot; "
     },
     "execution_count": 10,
     "metadata": {},
     "output_type": "execute_result"
    }
   ],
   "source": [
    "data.head()"
   ]
  },
  {
   "cell_type": "code",
   "execution_count": 11,
   "metadata": {},
   "outputs": [],
   "source": [
    "def remove_pattern(input_txt,pattern):\n",
    "    r = re.findall(pattern,input_txt)\n",
    "    for i in r:\n",
    "        input_txt = re.sub(i,'',input_txt)\n",
    "        return input_txt"
   ]
  },
  {
   "cell_type": "code",
   "execution_count": 14,
   "metadata": {},
   "outputs": [
    {
     "data": {
      "text/html": "<div>\n<style scoped>\n    .dataframe tbody tr th:only-of-type {\n        vertical-align: middle;\n    }\n\n    .dataframe tbody tr th {\n        vertical-align: top;\n    }\n\n    .dataframe thead th {\n        text-align: right;\n    }\n</style>\n<table border=\"1\" class=\"dataframe\">\n  <thead>\n    <tr style=\"text-align: right;\">\n      <th></th>\n      <th>label</th>\n      <th>body_text</th>\n      <th>tidy_twet</th>\n    </tr>\n  </thead>\n  <tbody>\n    <tr>\n      <th>0</th>\n      <td>1</td>\n      <td>having a vodka tonic and looking forward to go...</td>\n      <td>None</td>\n    </tr>\n    <tr>\n      <th>1</th>\n      <td>1</td>\n      <td>@ddlovatofans1neg1 Could you follow me please....</td>\n      <td>Could you follow me please.I would really app...</td>\n    </tr>\n    <tr>\n      <th>2</th>\n      <td>1</td>\n      <td>@jordanknight for once.................. PLEAS...</td>\n      <td>for once.................. PLEASE TELL US WHY...</td>\n    </tr>\n    <tr>\n      <th>3</th>\n      <td>0</td>\n      <td>Had a dream about a walk in fast food resturau...</td>\n      <td>None</td>\n    </tr>\n    <tr>\n      <th>4</th>\n      <td>1</td>\n      <td>@TroyBrownBBNews Yes... For a &amp;quot;friend&amp;quot;</td>\n      <td>Yes... For a &amp;quot;friend&amp;quot;</td>\n    </tr>\n  </tbody>\n</table>\n</div>",
      "text/plain": "   label                                          body_text  \\\n0      1  having a vodka tonic and looking forward to go...   \n1      1  @ddlovatofans1neg1 Could you follow me please....   \n2      1  @jordanknight for once.................. PLEAS...   \n3      0  Had a dream about a walk in fast food resturau...   \n4      1  @TroyBrownBBNews Yes... For a &quot;friend&quot;    \n\n                                           tidy_twet  \n0                                               None  \n1   Could you follow me please.I would really app...  \n2   for once.................. PLEASE TELL US WHY...  \n3                                               None  \n4                   Yes... For a &quot;friend&quot;   "
     },
     "execution_count": 14,
     "metadata": {},
     "output_type": "execute_result"
    }
   ],
   "source": [
    "data['tidy_twet']= np.vectorize(remove_pattern)(data['body_text'],'@[\\w]*')\n",
    "data.head()"
   ]
  },
  {
   "cell_type": "code",
   "execution_count": null,
   "metadata": {},
   "outputs": [],
   "source": []
  }
 ],
 "metadata": {
  "kernelspec": {
   "display_name": "Python 3.8.5 64-bit",
   "metadata": {
    "interpreter": {
     "hash": "31f2aee4e71d21fbe5cf8b01ff0e069b9275f58929596ceb00d14d90e3e16cd6"
    }
   },
   "name": "python3"
  },
  "language_info": {
   "codemirror_mode": {
    "name": "ipython",
    "version": 3
   },
   "file_extension": ".py",
   "mimetype": "text/x-python",
   "name": "python",
   "nbconvert_exporter": "python",
   "pygments_lexer": "ipython3",
   "version": "3.8.5"
  },
  "orig_nbformat": 2
 },
 "nbformat": 4,
 "nbformat_minor": 2
}